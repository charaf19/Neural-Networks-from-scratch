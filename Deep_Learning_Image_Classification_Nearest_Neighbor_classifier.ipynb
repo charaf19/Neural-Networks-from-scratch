{
  "nbformat": 4,
  "nbformat_minor": 0,
  "metadata": {
    "colab": {
      "provenance": [],
      "authorship_tag": "ABX9TyMTNUU0TidDlvpd8A1bdlXH",
      "include_colab_link": true
    },
    "kernelspec": {
      "name": "python3",
      "display_name": "Python 3"
    },
    "language_info": {
      "name": "python"
    }
  },
  "cells": [
    {
      "cell_type": "markdown",
      "metadata": {
        "id": "view-in-github",
        "colab_type": "text"
      },
      "source": [
        "<a href=\"https://colab.research.google.com/github/charaf19/Neural-Networks-from-scratch/blob/master/Deep_Learning_Image_Classification_Nearest_Neighbor_classifier.ipynb\" target=\"_parent\"><img src=\"https://colab.research.google.com/assets/colab-badge.svg\" alt=\"Open In Colab\"/></a>"
      ]
    },
    {
      "cell_type": "code",
      "source": [
        "import numpy as np"
      ],
      "metadata": {
        "id": "QZahkg1RAafX"
      },
      "execution_count": 2,
      "outputs": []
    },
    {
      "cell_type": "markdown",
      "source": [
        "## Nearest Neighbor classifier"
      ],
      "metadata": {
        "id": "VE719yu4EkRz"
      }
    },
    {
      "cell_type": "code",
      "source": [
        "class NearestNeighbor:\n",
        "  def __init__(self):\n",
        "    pass\n",
        "  def train(self,X,y):\n",
        "    self.Xtre=X\n",
        "    self.ytr=y\n",
        "  def predict(self,X):\n",
        "    num_test = X.shape[0]\n",
        "    Ypred = np.zeros(num_test,dtype = self.ytr.dtype)\n",
        "    for i in xrange(num_test):\n",
        "      distance = np.sum(np.abs(self.Xtr-X[i,:]),axis=1)\n",
        "      min_index = np.argmin[distance]\n",
        "      Ypred[i]=self.ytr[min_index]\n",
        "    return Ypred"
      ],
      "metadata": {
        "id": "u4MLGUP_Ai1M"
      },
      "execution_count": null,
      "outputs": []
    }
  ]
}