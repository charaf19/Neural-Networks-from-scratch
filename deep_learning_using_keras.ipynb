{
  "nbformat": 4,
  "nbformat_minor": 0,
  "metadata": {
    "colab": {
      "provenance": [],
      "authorship_tag": "ABX9TyPqiPzOSEe7wWtSKU2pLC6/",
      "include_colab_link": true
    },
    "kernelspec": {
      "name": "python3",
      "display_name": "Python 3"
    },
    "language_info": {
      "name": "python"
    }
  },
  "cells": [
    {
      "cell_type": "markdown",
      "metadata": {
        "id": "view-in-github",
        "colab_type": "text"
      },
      "source": [
        "<a href=\"https://colab.research.google.com/github/charaf19/Neural-Networks-from-scratch/blob/master/deep_learning_using_keras.ipynb\" target=\"_parent\"><img src=\"https://colab.research.google.com/assets/colab-badge.svg\" alt=\"Open In Colab\"/></a>"
      ]
    },
    {
      "cell_type": "markdown",
      "source": [
        "## Keras Sequential model\n"
      ],
      "metadata": {
        "id": "YGXpIAIkknDr"
      }
    },
    {
      "cell_type": "markdown",
      "source": [
        "the sequential model is a linear stack of layers "
      ],
      "metadata": {
        "id": "fUUri7x3lEEk"
      }
    },
    {
      "cell_type": "code",
      "execution_count": 2,
      "metadata": {
        "id": "93cMZai5kgpT"
      },
      "outputs": [],
      "source": [
        "from keras.models import Sequential\n",
        "from keras.layers import Dense,Activation \n",
        "\n",
        "model = Sequential(\n",
        "[    Dense(5,input_shape=(3,),activation='relu'),\n",
        "    Dense(2,activation='softmax'),]\n",
        ")"
      ]
    },
    {
      "cell_type": "markdown",
      "source": [
        "\n",
        " and you can add an activation function like the following\n",
        "```\n",
        "model.add(Dense(2,input_shape=(3,))\n",
        "model.add(Activation('softmax')\n",
        "```\n",
        "\n"
      ],
      "metadata": {
        "id": "4azJpnOEqEjE"
      }
    },
    {
      "cell_type": "markdown",
      "source": [
        "## Training our Network"
      ],
      "metadata": {
        "id": "JoRf9cP8rLD1"
      }
    },
    {
      "cell_type": "markdown",
      "source": [
        "it's all about solving an optimization problem\n",
        "\n",
        "\n",
        "*   Optimizing weights\n",
        "  *   using srochastic gradient descent \n",
        "*   and the objective here is to minimize the loss function\n",
        "\n"
      ],
      "metadata": {
        "id": "QAGzrGs1rPy0"
      }
    },
    {
      "cell_type": "markdown",
      "source": [
        "# Phase of learning "
      ],
      "metadata": {
        "id": "o7DjUPzevzNU"
      }
    },
    {
      "cell_type": "code",
      "source": [
        "import keras\n",
        "from keras import backend as k \n",
        "from keras.optimizers import Adam\n",
        "from keras.metrics import categorical_crossentropy"
      ],
      "metadata": {
        "id": "j_rP9gn8rO-j"
      },
      "execution_count": 4,
      "outputs": []
    },
    {
      "cell_type": "code",
      "source": [
        "model = Sequential( \n",
        "[    Dense(16,input_shape=(1,),activation='relu'),\n",
        "    Dense(32,activation='relu'),\n",
        "    Dense(2,activation='softmax'),]\n",
        ")"
      ],
      "metadata": {
        "id": "REBMdf9H6cEi"
      },
      "execution_count": 3,
      "outputs": []
    },
    {
      "cell_type": "code",
      "source": [
        "\n",
        "model.compile(Adam(learning_rate=0.0001),loss = k.sparse_categorical_crossentropy,metrics=(['accuracy']))"
      ],
      "metadata": {
        "id": "bgIkqI-j74GI"
      },
      "execution_count": 6,
      "outputs": []
    },
    {
      "cell_type": "code",
      "source": [],
      "metadata": {
        "id": "APe-RDUP8hfp"
      },
      "execution_count": null,
      "outputs": []
    }
  ]
}